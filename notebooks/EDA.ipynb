{
 "cells": [
  {
   "cell_type": "markdown",
   "metadata": {},
   "source": [
    "# IMDbMovies"
   ]
  },
  {
   "cell_type": "markdown",
   "metadata": {},
   "source": [
    "## Contents <a id='back'></a>\n",
    "\n",
    "1. [Introduction](#introduction)\n",
    "2. [Loading the Dataset](#loading-the-dataset)\n",
    "3. [Data Cleaning](#data-cleaning)\n",
    "   - 3.1 [Header style](#header-style)\n",
    "   - 3.2 [Data Transformation](#data-transformation)\n",
    "   - 3.3 [Handling Missing Values](#handling-missing-values)\n",
    "4. [Exploratory Data Analysis (EDA)](#exploratory-data-analysis-eda)\n",
    "   - 4.1 [Overview of the Dataset](#overview-of-the-dataset)\n",
    "   - 4.2 [Visualizing Data](#visualizing-data)"
   ]
  },
  {
   "cell_type": "markdown",
   "metadata": {},
   "source": [
    "## 1. Introduction <a name=\"introduction\"></a>\n",
    "\n",
    "The IMDbMovies dataset is a comprehensive collection with information on more than 9000 movies on IMDb. The dataset includes key features such as title, director, writer, genres, runtime, release year, budget, and gross revenue. \n",
    "\n",
    "The primary goal of this analysis is to gain a deeper insight of the evolution of the cinematographic industry over the years."
   ]
  },
  {
   "cell_type": "markdown",
   "metadata": {},
   "source": [
    "[Back to contents](#back)"
   ]
  },
  {
   "cell_type": "markdown",
   "metadata": {},
   "source": [
    "## 2. Loading the Dataset <a name=\"loading-the-dataset\"></a>\n",
    "\n",
    "The IMDB Movies dataset is available on [kaggle.com](https://www.kaggle.com/datasets/elvinrustam/imdb-movies-dataset). We will be using the unclean version, so we can carry out our own cleanup. \n",
    "\n",
    "The first step is to correct a few rows that have the correct data, but it's shifted one column to the right. The movies that require this are:\n",
    " \n",
    "- Sleepy Hollow\n",
    "- Texas Chainsaw\n",
    "- G.I. Joe: Retaliation\n",
    "- The Woman in the Window\n",
    "- The Social Dilemma\n",
    "- Bank of Dave\n",
    "- Eden\n",
    "- CHIPS\n",
    "- The Diving Bell and the Butterfly\n",
    "- Untamed Heart\n",
    "- Roxanne\n",
    "- The Postcard Killings\n",
    "- Cover Girl\n",
    "\n",
    "We'll be fixing this with google docs."
   ]
  },
  {
   "cell_type": "markdown",
   "metadata": {},
   "source": [
    "Note that \"The Fall of Minneapolis\" has a similar issue, but also a lot of missing values, and the value for budget (302) doesn't make sense. We'll drop this row. "
   ]
  },
  {
   "cell_type": "markdown",
   "metadata": {},
   "source": [
    "The rest of the preprocessing will be done here. We can load the Dataset now."
   ]
  },
  {
   "cell_type": "code",
   "execution_count": 3,
   "metadata": {},
   "outputs": [],
   "source": [
    "import pandas as pd\n",
    "\n",
    "df = pd.read_csv(\"../IMDbMovies.csv\")"
   ]
  },
  {
   "cell_type": "markdown",
   "metadata": {},
   "source": [
    "Lets see what the data looks like."
   ]
  },
  {
   "cell_type": "code",
   "execution_count": 5,
   "metadata": {},
   "outputs": [
    {
     "data": {
      "text/html": [
       "<div>\n",
       "<style scoped>\n",
       "    .dataframe tbody tr th:only-of-type {\n",
       "        vertical-align: middle;\n",
       "    }\n",
       "\n",
       "    .dataframe tbody tr th {\n",
       "        vertical-align: top;\n",
       "    }\n",
       "\n",
       "    .dataframe thead th {\n",
       "        text-align: right;\n",
       "    }\n",
       "</style>\n",
       "<table border=\"1\" class=\"dataframe\">\n",
       "  <thead>\n",
       "    <tr style=\"text-align: right;\">\n",
       "      <th></th>\n",
       "      <th>Title</th>\n",
       "      <th>Summary</th>\n",
       "      <th>Director</th>\n",
       "      <th>Writer</th>\n",
       "      <th>Main Genres</th>\n",
       "      <th>Motion Picture Rating</th>\n",
       "      <th>Runtime</th>\n",
       "      <th>Release Year</th>\n",
       "      <th>Rating</th>\n",
       "      <th>Number of Ratings</th>\n",
       "      <th>Budget</th>\n",
       "      <th>Gross in US &amp; Canada</th>\n",
       "      <th>Gross worldwide</th>\n",
       "      <th>Opening Weekend Gross in US &amp; Canada</th>\n",
       "    </tr>\n",
       "  </thead>\n",
       "  <tbody>\n",
       "    <tr>\n",
       "      <th>0</th>\n",
       "      <td>Napoleon</td>\n",
       "      <td>An epic that details the checkered rise and fa...</td>\n",
       "      <td>Ridley Scott</td>\n",
       "      <td>David Scarpa</td>\n",
       "      <td>Action,Adventure,Biography</td>\n",
       "      <td>R</td>\n",
       "      <td>2h 38m</td>\n",
       "      <td>2023.0</td>\n",
       "      <td>6.7/10</td>\n",
       "      <td>38K</td>\n",
       "      <td>NaN</td>\n",
       "      <td>$37,514,498</td>\n",
       "      <td>$84,968,381</td>\n",
       "      <td>$20,638,887Nov 26, 2023</td>\n",
       "    </tr>\n",
       "    <tr>\n",
       "      <th>1</th>\n",
       "      <td>The Hunger Games: The Ballad of Songbirds &amp; Sn...</td>\n",
       "      <td>Coriolanus Snow mentors and develops feelings ...</td>\n",
       "      <td>Francis Lawrence</td>\n",
       "      <td>Michael Lesslie,Michael Arndt,Suzanne Collins</td>\n",
       "      <td>Action,Adventure,Drama</td>\n",
       "      <td>PG-13</td>\n",
       "      <td>2h 37m</td>\n",
       "      <td>2023.0</td>\n",
       "      <td>7.2/10</td>\n",
       "      <td>37K</td>\n",
       "      <td>$100,000,000 (estimated)</td>\n",
       "      <td>$105,043,414</td>\n",
       "      <td>$191,729,235</td>\n",
       "      <td>$44,607,143Nov 19, 2023</td>\n",
       "    </tr>\n",
       "    <tr>\n",
       "      <th>2</th>\n",
       "      <td>The Killer</td>\n",
       "      <td>After a fateful near-miss, an assassin battles...</td>\n",
       "      <td>David Fincher</td>\n",
       "      <td>Andrew Kevin Walker,Luc Jacamon,Alexis Nolent</td>\n",
       "      <td>Action,Adventure,Crime</td>\n",
       "      <td>R</td>\n",
       "      <td>1h 58m</td>\n",
       "      <td>2023.0</td>\n",
       "      <td>6.8/10</td>\n",
       "      <td>117K</td>\n",
       "      <td>NaN</td>\n",
       "      <td>NaN</td>\n",
       "      <td>$421,332</td>\n",
       "      <td>NaN</td>\n",
       "    </tr>\n",
       "    <tr>\n",
       "      <th>3</th>\n",
       "      <td>Leo</td>\n",
       "      <td>A 74-year-old lizard named Leo and his turtle ...</td>\n",
       "      <td>David Wachtenheim,Robert Smigel,Robert Marianetti</td>\n",
       "      <td>Paul Sado,Robert Smigel,Adam Sandler</td>\n",
       "      <td>Animation,Comedy,Family</td>\n",
       "      <td>PG</td>\n",
       "      <td>1h 42m</td>\n",
       "      <td>2023.0</td>\n",
       "      <td>7.0/10</td>\n",
       "      <td>10K</td>\n",
       "      <td>NaN</td>\n",
       "      <td>NaN</td>\n",
       "      <td>NaN</td>\n",
       "      <td>NaN</td>\n",
       "    </tr>\n",
       "    <tr>\n",
       "      <th>4</th>\n",
       "      <td>Thanksgiving</td>\n",
       "      <td>After a Black Friday riot ends in tragedy, a m...</td>\n",
       "      <td>Eli Roth</td>\n",
       "      <td>Eli Roth,Jeff Rendell</td>\n",
       "      <td>Horror,Mystery,Thriller</td>\n",
       "      <td>R</td>\n",
       "      <td>1h 46m</td>\n",
       "      <td>2023.0</td>\n",
       "      <td>7.0/10</td>\n",
       "      <td>9.1K</td>\n",
       "      <td>NaN</td>\n",
       "      <td>$25,408,677</td>\n",
       "      <td>$29,666,585</td>\n",
       "      <td>$10,306,272Nov 19, 2023</td>\n",
       "    </tr>\n",
       "  </tbody>\n",
       "</table>\n",
       "</div>"
      ],
      "text/plain": [
       "                                               Title  \\\n",
       "0                                           Napoleon   \n",
       "1  The Hunger Games: The Ballad of Songbirds & Sn...   \n",
       "2                                         The Killer   \n",
       "3                                                Leo   \n",
       "4                                       Thanksgiving   \n",
       "\n",
       "                                             Summary  \\\n",
       "0  An epic that details the checkered rise and fa...   \n",
       "1  Coriolanus Snow mentors and develops feelings ...   \n",
       "2  After a fateful near-miss, an assassin battles...   \n",
       "3  A 74-year-old lizard named Leo and his turtle ...   \n",
       "4  After a Black Friday riot ends in tragedy, a m...   \n",
       "\n",
       "                                            Director  \\\n",
       "0                                       Ridley Scott   \n",
       "1                                   Francis Lawrence   \n",
       "2                                      David Fincher   \n",
       "3  David Wachtenheim,Robert Smigel,Robert Marianetti   \n",
       "4                                           Eli Roth   \n",
       "\n",
       "                                          Writer                 Main Genres  \\\n",
       "0                                   David Scarpa  Action,Adventure,Biography   \n",
       "1  Michael Lesslie,Michael Arndt,Suzanne Collins      Action,Adventure,Drama   \n",
       "2  Andrew Kevin Walker,Luc Jacamon,Alexis Nolent      Action,Adventure,Crime   \n",
       "3           Paul Sado,Robert Smigel,Adam Sandler     Animation,Comedy,Family   \n",
       "4                          Eli Roth,Jeff Rendell     Horror,Mystery,Thriller   \n",
       "\n",
       "  Motion Picture Rating Runtime  Release Year  Rating Number of Ratings  \\\n",
       "0                     R  2h 38m        2023.0  6.7/10               38K   \n",
       "1                 PG-13  2h 37m        2023.0  7.2/10               37K   \n",
       "2                     R  1h 58m        2023.0  6.8/10              117K   \n",
       "3                    PG  1h 42m        2023.0  7.0/10               10K   \n",
       "4                     R  1h 46m        2023.0  7.0/10              9.1K   \n",
       "\n",
       "                     Budget Gross in US & Canada Gross worldwide  \\\n",
       "0                       NaN         $37,514,498     $84,968,381    \n",
       "1  $100,000,000 (estimated)        $105,043,414    $191,729,235    \n",
       "2                       NaN                  NaN       $421,332    \n",
       "3                       NaN                  NaN             NaN   \n",
       "4                       NaN         $25,408,677     $29,666,585    \n",
       "\n",
       "  Opening Weekend Gross in US & Canada  \n",
       "0              $20,638,887Nov 26, 2023  \n",
       "1              $44,607,143Nov 19, 2023  \n",
       "2                                  NaN  \n",
       "3                                  NaN  \n",
       "4              $10,306,272Nov 19, 2023  "
      ]
     },
     "execution_count": 5,
     "metadata": {},
     "output_type": "execute_result"
    }
   ],
   "source": [
    "df.head(5)"
   ]
  },
  {
   "cell_type": "markdown",
   "metadata": {},
   "source": [
    "There seems to be a lot of missing values on the Budget and Gross columns, and some columns are in a format that is uncomfortable to work with. Time for cleanup."
   ]
  },
  {
   "cell_type": "markdown",
   "metadata": {},
   "source": [
    "[Back to contents](#back)"
   ]
  },
  {
   "cell_type": "markdown",
   "metadata": {},
   "source": [
    "## 3. Data Cleaning <a name=\"data-cleaning\"></a>"
   ]
  },
  {
   "cell_type": "markdown",
   "metadata": {},
   "source": [
    "### 3.1 Header style <a name=\"header-style\"></a>\n",
    "\n",
    "First we'll fix the names of the existing columns."
   ]
  },
  {
   "cell_type": "code",
   "execution_count": 9,
   "metadata": {},
   "outputs": [
    {
     "data": {
      "text/plain": [
       "Index(['Title', 'Summary', 'Director', 'Writer', 'Main Genres',\n",
       "       'Motion Picture Rating', 'Runtime', 'Release Year', 'Rating',\n",
       "       'Number of Ratings', 'Budget', 'Gross in US & Canada',\n",
       "       'Gross worldwide', 'Opening Weekend Gross in US & Canada'],\n",
       "      dtype='object')"
      ]
     },
     "execution_count": 9,
     "metadata": {},
     "output_type": "execute_result"
    }
   ],
   "source": [
    "base_columns_names = df.columns\n",
    "base_columns_names"
   ]
  },
  {
   "cell_type": "code",
   "execution_count": 13,
   "metadata": {},
   "outputs": [
    {
     "data": {
      "text/plain": [
       "{'Title': 'title',\n",
       " 'Summary': 'summary',\n",
       " 'Director': 'director',\n",
       " 'Writer': 'writer',\n",
       " 'Main Genres': 'main_genres',\n",
       " 'Motion Picture Rating': 'motion_picture_rating',\n",
       " 'Runtime': 'runtime',\n",
       " 'Release Year': 'release_year',\n",
       " 'Rating': 'rating',\n",
       " 'Number of Ratings': 'number_of_ratings',\n",
       " 'Budget': 'budget',\n",
       " 'Gross in US & Canada': 'gross_in_us&canada',\n",
       " 'Gross worldwide': 'gross_worldwide',\n",
       " 'Opening Weekend Gross in US & Canada': 'opening_weekend_gross_in_us&canada'}"
      ]
     },
     "execution_count": 13,
     "metadata": {},
     "output_type": "execute_result"
    }
   ],
   "source": [
    "fixed_columns_names = {}\n",
    "\n",
    "for name in base_columns_names:\n",
    "    fixed_name = name.lower()\n",
    "    fixed_name = fixed_name.replace(' & ', '&') #turns \"us & canada\" into \"us&canada\", to avoid so many '_' characters in the next step\n",
    "    fixed_name = fixed_name.replace(' ', '_')\n",
    "    fixed_columns_names [name] = fixed_name\n",
    "\n",
    "fixed_columns_names"
   ]
  },
  {
   "cell_type": "code",
   "execution_count": 15,
   "metadata": {},
   "outputs": [
    {
     "data": {
      "text/plain": [
       "Index(['title', 'summary', 'director', 'writer', 'main_genres',\n",
       "       'motion_picture_rating', 'runtime', 'release_year', 'rating',\n",
       "       'number_of_ratings', 'budget', 'gross_in_us&canada', 'gross_worldwide',\n",
       "       'opening_weekend_gross_in_us&canada'],\n",
       "      dtype='object')"
      ]
     },
     "execution_count": 15,
     "metadata": {},
     "output_type": "execute_result"
    }
   ],
   "source": [
    "df = df.rename(columns = fixed_columns_names)\n",
    "df.columns"
   ]
  },
  {
   "cell_type": "markdown",
   "metadata": {},
   "source": [
    "With the columns renamed, lets move on to improvind the format of certain columns. We might end up renaming some of them again."
   ]
  },
  {
   "cell_type": "markdown",
   "metadata": {},
   "source": [
    "[Back to contents](#back)"
   ]
  },
  {
   "cell_type": "markdown",
   "metadata": {},
   "source": []
  }
 ],
 "metadata": {
  "kernelspec": {
   "display_name": "Sprint6",
   "language": "python",
   "name": "python3"
  },
  "language_info": {
   "codemirror_mode": {
    "name": "ipython",
    "version": 3
   },
   "file_extension": ".py",
   "mimetype": "text/x-python",
   "name": "python",
   "nbconvert_exporter": "python",
   "pygments_lexer": "ipython3",
   "version": "3.9.18"
  }
 },
 "nbformat": 4,
 "nbformat_minor": 2
}
